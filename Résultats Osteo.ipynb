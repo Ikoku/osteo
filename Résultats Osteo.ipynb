{
 "cells": [
  {
   "cell_type": "code",
   "execution_count": 1,
   "metadata": {
    "scrolled": false
   },
   "outputs": [
    {
     "data": {
      "text/html": [
       "<div>\n",
       "<style scoped>\n",
       "    .dataframe tbody tr th:only-of-type {\n",
       "        vertical-align: middle;\n",
       "    }\n",
       "\n",
       "    .dataframe tbody tr th {\n",
       "        vertical-align: top;\n",
       "    }\n",
       "\n",
       "    .dataframe thead th {\n",
       "        text-align: right;\n",
       "    }\n",
       "</style>\n",
       "<table border=\"1\" class=\"dataframe\">\n",
       "  <thead>\n",
       "    <tr style=\"text-align: right;\">\n",
       "      <th></th>\n",
       "      <th>Horodateur</th>\n",
       "      <th>Annee</th>\n",
       "      <th>Genre</th>\n",
       "      <th>CP</th>\n",
       "      <th>Statut</th>\n",
       "      <th>Exercice A</th>\n",
       "      <th>Retro A</th>\n",
       "      <th>Spe A</th>\n",
       "      <th>Recherche A</th>\n",
       "      <th>Satisfaction A</th>\n",
       "      <th>...</th>\n",
       "      <th>Jours TA</th>\n",
       "      <th>Retro TA</th>\n",
       "      <th>Spe TA</th>\n",
       "      <th>Exp TA</th>\n",
       "      <th>Recherche TA</th>\n",
       "      <th>Satisfaction TA</th>\n",
       "      <th>Positif</th>\n",
       "      <th>Ameliorer P</th>\n",
       "      <th>Negatif</th>\n",
       "      <th>Ameliorer N</th>\n",
       "    </tr>\n",
       "  </thead>\n",
       "  <tbody>\n",
       "    <tr>\n",
       "      <th>0</th>\n",
       "      <td>24/08/2018 17:56:08</td>\n",
       "      <td>1990</td>\n",
       "      <td>Homme</td>\n",
       "      <td>75009</td>\n",
       "      <td>Titulaire</td>\n",
       "      <td>NaN</td>\n",
       "      <td>NaN</td>\n",
       "      <td>NaN</td>\n",
       "      <td>NaN</td>\n",
       "      <td>NaN</td>\n",
       "      <td>...</td>\n",
       "      <td>NaN</td>\n",
       "      <td>NaN</td>\n",
       "      <td>NaN</td>\n",
       "      <td>NaN</td>\n",
       "      <td>NaN</td>\n",
       "      <td>NaN</td>\n",
       "      <td>NaN</td>\n",
       "      <td>NaN</td>\n",
       "      <td>NaN</td>\n",
       "      <td>NaN</td>\n",
       "    </tr>\n",
       "    <tr>\n",
       "      <th>1</th>\n",
       "      <td>27/08/2018 23:34:44</td>\n",
       "      <td>1989</td>\n",
       "      <td>Homme</td>\n",
       "      <td>82100</td>\n",
       "      <td>Titulaire</td>\n",
       "      <td>NaN</td>\n",
       "      <td>NaN</td>\n",
       "      <td>NaN</td>\n",
       "      <td>NaN</td>\n",
       "      <td>NaN</td>\n",
       "      <td>...</td>\n",
       "      <td>NaN</td>\n",
       "      <td>NaN</td>\n",
       "      <td>NaN</td>\n",
       "      <td>NaN</td>\n",
       "      <td>NaN</td>\n",
       "      <td>NaN</td>\n",
       "      <td>NaN</td>\n",
       "      <td>NaN</td>\n",
       "      <td>NaN</td>\n",
       "      <td>NaN</td>\n",
       "    </tr>\n",
       "    <tr>\n",
       "      <th>2</th>\n",
       "      <td>06/09/2018 13:33:23</td>\n",
       "      <td>1924</td>\n",
       "      <td>Je ne souhaite pas le préciser</td>\n",
       "      <td>82000</td>\n",
       "      <td>Assistant</td>\n",
       "      <td>3.0</td>\n",
       "      <td>30.0</td>\n",
       "      <td>NaN</td>\n",
       "      <td>Bouche à oreille / réseau personnel</td>\n",
       "      <td>Très satisfaisantes</td>\n",
       "      <td>...</td>\n",
       "      <td>NaN</td>\n",
       "      <td>NaN</td>\n",
       "      <td>NaN</td>\n",
       "      <td>NaN</td>\n",
       "      <td>NaN</td>\n",
       "      <td>NaN</td>\n",
       "      <td>NaN</td>\n",
       "      <td>NaN</td>\n",
       "      <td>NaN</td>\n",
       "      <td>NaN</td>\n",
       "    </tr>\n",
       "    <tr>\n",
       "      <th>3</th>\n",
       "      <td>08/09/2018 12:51:53</td>\n",
       "      <td>1989</td>\n",
       "      <td>Homme</td>\n",
       "      <td>66000</td>\n",
       "      <td>Remplaçant</td>\n",
       "      <td>NaN</td>\n",
       "      <td>NaN</td>\n",
       "      <td>NaN</td>\n",
       "      <td>NaN</td>\n",
       "      <td>NaN</td>\n",
       "      <td>...</td>\n",
       "      <td>NaN</td>\n",
       "      <td>NaN</td>\n",
       "      <td>NaN</td>\n",
       "      <td>NaN</td>\n",
       "      <td>NaN</td>\n",
       "      <td>NaN</td>\n",
       "      <td>NaN</td>\n",
       "      <td>NaN</td>\n",
       "      <td>NaN</td>\n",
       "      <td>NaN</td>\n",
       "    </tr>\n",
       "    <tr>\n",
       "      <th>4</th>\n",
       "      <td>09/09/2018 12:38:01</td>\n",
       "      <td>1985</td>\n",
       "      <td>Femme</td>\n",
       "      <td>38070</td>\n",
       "      <td>Titulaire</td>\n",
       "      <td>NaN</td>\n",
       "      <td>NaN</td>\n",
       "      <td>NaN</td>\n",
       "      <td>NaN</td>\n",
       "      <td>NaN</td>\n",
       "      <td>...</td>\n",
       "      <td>NaN</td>\n",
       "      <td>NaN</td>\n",
       "      <td>NaN</td>\n",
       "      <td>NaN</td>\n",
       "      <td>NaN</td>\n",
       "      <td>NaN</td>\n",
       "      <td>NaN</td>\n",
       "      <td>NaN</td>\n",
       "      <td>NaN</td>\n",
       "      <td>NaN</td>\n",
       "    </tr>\n",
       "  </tbody>\n",
       "</table>\n",
       "<p>5 rows × 33 columns</p>\n",
       "</div>"
      ],
      "text/plain": [
       "            Horodateur Annee                           Genre     CP  \\\n",
       "0  24/08/2018 17:56:08  1990                           Homme  75009   \n",
       "1  27/08/2018 23:34:44  1989                           Homme  82100   \n",
       "2  06/09/2018 13:33:23  1924  Je ne souhaite pas le préciser  82000   \n",
       "3  08/09/2018 12:51:53  1989                           Homme  66000   \n",
       "4  09/09/2018 12:38:01  1985                           Femme  38070   \n",
       "\n",
       "       Statut  Exercice A  Retro A Spe A                          Recherche A  \\\n",
       "0   Titulaire         NaN      NaN   NaN                                  NaN   \n",
       "1   Titulaire         NaN      NaN   NaN                                  NaN   \n",
       "2   Assistant         3.0     30.0   NaN  Bouche à oreille / réseau personnel   \n",
       "3  Remplaçant         NaN      NaN   NaN                                  NaN   \n",
       "4   Titulaire         NaN      NaN   NaN                                  NaN   \n",
       "\n",
       "        Satisfaction A     ...      Jours TA  Retro TA Spe TA Exp TA  \\\n",
       "0                  NaN     ...           NaN       NaN    NaN    NaN   \n",
       "1                  NaN     ...           NaN       NaN    NaN    NaN   \n",
       "2  Très satisfaisantes     ...           NaN       NaN    NaN    NaN   \n",
       "3                  NaN     ...           NaN       NaN    NaN    NaN   \n",
       "4                  NaN     ...           NaN       NaN    NaN    NaN   \n",
       "\n",
       "  Recherche TA Satisfaction TA Positif  Ameliorer P  Negatif Ameliorer N  \n",
       "0          NaN             NaN     NaN          NaN      NaN         NaN  \n",
       "1          NaN             NaN     NaN          NaN      NaN         NaN  \n",
       "2          NaN             NaN     NaN          NaN      NaN         NaN  \n",
       "3          NaN             NaN     NaN          NaN      NaN         NaN  \n",
       "4          NaN             NaN     NaN          NaN      NaN         NaN  \n",
       "\n",
       "[5 rows x 33 columns]"
      ]
     },
     "execution_count": 1,
     "metadata": {},
     "output_type": "execute_result"
    }
   ],
   "source": [
    "import pandas as pd\n",
    "import numpy as np\n",
    "import matplotlib.pyplot as plt\n",
    "% matplotlib inline\n",
    "\n",
    "df = pd.read_csv('C:/Users/Ikoku/Desktop/Osteo.csv', engine = 'python', encoding = 'utf-8')\n",
    "df=df.rename(columns=\n",
    "            {\"Année de naissance\": \"Annee\",\n",
    "            \"Quel est votre genre?\": \"Genre\",\n",
    "            \"Quel est votre Code Postal? (Indiquez 99999 si vous vivez à l’étranger)\": \"CP\",\n",
    "            \"Êtes-vous actuellement :\": \"Statut\",\n",
    "            \"Depuis combien de temps exercez-vous? (en années, à 6 mois près)\": \"Exercice A\",\n",
    "            \"Habituellement, quelle rétrocession pratiquez-vous avec votre titulaire? (Indiquez le pourcentage rétrocédé)\": \"Retro A\",\n",
    "            \"Avez-vous une spécialisation?\": \"Spe A\",\n",
    "            \"Comment recherchez-vous habituellement un poste d'assistant? (plusieurs réponses possibles)\": \"Recherche A\",\n",
    "            \"D'une manière générale, en tant qu'assistant, vous avez eu des expériences :\": \"Satisfaction A\",\n",
    "            \"Depuis combien de temps exercez-vous? (en années, à 6 mois près).1\": \"Exercice R\",\n",
    "            \"Habituellement, quelle rétrocession pratiquez-vous avec votre titulaire? (Indiquez le pourcentage rétrocédé).1\": \"Retro R\",\n",
    "            \"Avez-vous une spécialisation?.1\": \"Spe R\",\n",
    "            \"Comment recherchez-vous habituellement un poste de remplaçant? (plusieurs réponses possibles)\": \"Recherche R\",\n",
    "            \"D'une manière générale, en tant que remplaçant, vous avez eu des expériences :\": \"Satisfaction R\",\n",
    "            \"Depuis combien de temps votre cabinet existe-t-il? (en années, à 6 mois près)\": \"Exercice T\",\n",
    "            \"Faites-vous appel à des remplaçant(e)s ou à des assistant(e)s\": \"Appel\",\n",
    "            \"Environ combien de jours par an avez-vous recours à un(e) remplaçant(e)?\": \"Jours TR\",\n",
    "            \"Habituellement, quelle rétrocession pratiquez-vous avec votre remplaçant? (Indiquez le pourcentage que vous conservez)\": \"Retro TR\",\n",
    "            \"Recherchez-vous une spécialisation particulière chez vos remplaçants? Si oui, la/lesquelle(s)?\": \"Spe TR\",\n",
    "            \"Exigez-vous un seuil d'expérience minimal chez vos remplaçants? Si Oui, combien (en années)?\": \"Exp TR\",\n",
    "            \"Comment recherchez-vous habituellement votre remplaçant? (plusieurs réponses possibles)\": \"Recherche TR\",\n",
    "            \"D'une manière générale, avec vos remplaçants, vous avez eu des expériences :\": \"Satisfaction TR\",\n",
    "            \"Quel est la fréquence d'intervention de votre assistant(e)?\": \"Jours TA\",\n",
    "            \"Habituellement, quelle rétrocession pratiquez-vous avec votre assistant? (Indiquez le pourcentage que vous conservez)\": \"Retro TA\",\n",
    "            \"Recherchez-vous une spécialisation particulière chez vos assistants? Si oui, la/lesquelle(s)?\": \"Spe TA\",\n",
    "            \"Exigez-vous un seuil d'expérience minimal chez vos assistants? Si Oui, combien (en années)?\": \"Exp TA\",\n",
    "            \"Comment recherchez-vous habituellement votre assistant?\": \"Recherche TA\",\n",
    "            \"D'une manière générale, avec vos assistants, vous avez eu des expériences :\": \"Satisfaction TA\",\n",
    "            \"Quels aspects positif en retenez-vous?\": \"Positif\",\n",
    "            \"Que souhaiteriez-vous améliorer ou faire différemment à l'avenir?\": \"Ameliorer P\",\n",
    "            \"Quels sont les aspects qui en ont fait une expérience négative?\": \"Negatif\",\n",
    "            \"Que souhaiteriez-vous améliorer ou faire différemment à l'avenir?.1\": \"Ameliorer N\"})\n",
    "df.head()\n"
   ]
  },
  {
   "cell_type": "markdown",
   "metadata": {},
   "source": [
    "# Statistiques Globales :#\n",
    "## Répartition des genres##"
   ]
  },
  {
   "cell_type": "code",
   "execution_count": 2,
   "metadata": {},
   "outputs": [
    {
     "data": {
      "text/plain": [
       "<matplotlib.patches.Circle at 0x9462fd0>"
      ]
     },
     "execution_count": 2,
     "metadata": {},
     "output_type": "execute_result"
    },
    {
     "data": {
      "image/png": "[encoded data removed]",
      "text/plain": [
       "<matplotlib.figure.Figure at 0x5b1f438>"
      ]
     },
     "metadata": {},
     "output_type": "display_data"
    }
   ],
   "source": [
    "fig1, ax1 = plt.subplots()\n",
    "labels = ['Femme', 'Homme']\n",
    "patches, texts, autotexts = ax1.pie(df['Genre'].value_counts()[0:2], labels = labels, \n",
    "        autopct='%1.1f%%', colors = ['#FE2E9A', '#5882FA'],\n",
    "       wedgeprops = {'linewidth': 3, 'edgecolor' : 'w'},\n",
    "       textprops = {'fontsize' : '16', 'fontname' : 'Calibri'}\n",
    "       )\n",
    "ax1.axis('equal')\n",
    "#ax1.set_title('Genres', fontsize = '16')\n",
    "plt.setp(autotexts, size = 'x-large')\n",
    "centre_circle = plt.Circle((0,0),0.750,fc='white')\n",
    "fig = plt.gcf()\n",
    "fig.gca().add_artist(centre_circle)"
   ]
  },
  {
   "cell_type": "markdown",
   "metadata": {},
   "source": [
    "## Répartition des statuts ##"
   ]
  },
  {
   "cell_type": "code",
   "execution_count": 3,
   "metadata": {},
   "outputs": [
    {
     "data": {
      "text/plain": [
       "<matplotlib.patches.Circle at 0x947f550>"
      ]
     },
     "execution_count": 3,
     "metadata": {},
     "output_type": "execute_result"
    },
    {
     "data": {
      "image/png": "[encoded data removed]",
      "text/plain": [
       "<matplotlib.figure.Figure at 0x5b1fa58>"
      ]
     },
     "metadata": {},
     "output_type": "display_data"
    }
   ],
   "source": [
    "fig2, ax2 = plt.subplots()\n",
    "labels = ['Titulaires', 'Assistants','Remplaçants']\n",
    "patches, texts, autotexts = ax2.pie(df['Statut'].value_counts(), labels = labels, \n",
    "        autopct='%1.1f%%', colors = ['#31B404', '#298A08','#21610B'],\n",
    "       wedgeprops = {'linewidth': 3, 'edgecolor' : 'w'},\n",
    "       textprops = {'fontsize' : '16', 'fontname' : 'Calibri'}\n",
    "       )\n",
    "ax2.axis('equal')\n",
    "#ax2.set_title('Statut', fontsize = '16')\n",
    "plt.setp(autotexts, size = 'x-large')\n",
    "centre_circle = plt.Circle((0,0),0.750,fc='white')\n",
    "fig = plt.gcf()\n",
    "fig.gca().add_artist(centre_circle)"
   ]
  },
  {
   "cell_type": "markdown",
   "metadata": {},
   "source": [
    "## Rétrocessions##"
   ]
  },
  {
   "cell_type": "code",
   "execution_count": 4,
   "metadata": {},
   "outputs": [
    {
     "name": "stdout",
     "output_type": "stream",
     "text": [
      "<class 'pandas.core.frame.DataFrame'>\n",
      "Int64Index: 166 entries, 0 to 326\n",
      "Data columns (total 34 columns):\n",
      "Horodateur         166 non-null object\n",
      "Annee              166 non-null object\n",
      "Genre              166 non-null object\n",
      "CP                 166 non-null int64\n",
      "Statut             166 non-null object\n",
      "Exercice A         38 non-null float64\n",
      "Retro A            166 non-null float64\n",
      "Spe A              30 non-null object\n",
      "Recherche A        38 non-null object\n",
      "Satisfaction A     38 non-null object\n",
      "Exercice R         25 non-null float64\n",
      "Retro R            166 non-null float64\n",
      "Spe R              22 non-null object\n",
      "Recherche R        25 non-null object\n",
      "Satisfaction R     25 non-null object\n",
      "Exercice T         103 non-null object\n",
      "Appel              103 non-null object\n",
      "Jours TR           76 non-null float64\n",
      "Retro TR           166 non-null float64\n",
      "Spe TR             76 non-null object\n",
      "Exp TR             76 non-null object\n",
      "Recherche TR       76 non-null object\n",
      "Satisfaction TR    76 non-null object\n",
      "Jours TA           27 non-null float64\n",
      "Retro TA           166 non-null float64\n",
      "Spe TA             27 non-null object\n",
      "Exp TA             23 non-null object\n",
      "Recherche TA       27 non-null object\n",
      "Satisfaction TA    27 non-null object\n",
      "Positif            114 non-null object\n",
      "Ameliorer P        78 non-null object\n",
      "Negatif            7 non-null object\n",
      "Ameliorer N        7 non-null object\n",
      "Retrocession       166 non-null float64\n",
      "dtypes: float64(9), int64(1), object(24)\n",
      "memory usage: 45.4+ KB\n"
     ]
    },
    {
     "name": "stderr",
     "output_type": "stream",
     "text": [
      "C:\\ProgramData\\Anaconda3\\lib\\site-packages\\pandas\\core\\generic.py:4355: SettingWithCopyWarning: \n",
      "A value is trying to be set on a copy of a slice from a DataFrame\n",
      "\n",
      "See the caveats in the documentation: http://pandas.pydata.org/pandas-docs/stable/indexing.html#indexing-view-versus-copy\n",
      "  self._update_inplace(new_data)\n",
      "C:\\ProgramData\\Anaconda3\\lib\\site-packages\\ipykernel_launcher.py:9: SettingWithCopyWarning: \n",
      "A value is trying to be set on a copy of a slice from a DataFrame.\n",
      "Try using .loc[row_indexer,col_indexer] = value instead\n",
      "\n",
      "See the caveats in the documentation: http://pandas.pydata.org/pandas-docs/stable/indexing.html#indexing-view-versus-copy\n",
      "  if __name__ == '__main__':\n"
     ]
    },
    {
     "data": {
      "text/plain": [
       "<matplotlib.lines.Line2D at 0x9a118d0>"
      ]
     },
     "execution_count": 4,
     "metadata": {},
     "output_type": "execute_result"
    },
    {
     "data": {
      "image/png": "[encoded data removed]",
      "text/plain": [
       "<matplotlib.figure.Figure at 0x9a11a20>"
      ]
     },
     "metadata": {},
     "output_type": "display_data"
    }
   ],
   "source": [
    "#Creation d'un df sans les titulaires n'utilisant pas de R/A\n",
    "df2 = df\n",
    "df2 = df2[df2.Appel != 'Aucun']\n",
    "#Aggregation des data retrocession pour calcul de moyenne\n",
    "df2['Retro A'].fillna(0, inplace = True)\n",
    "df2['Retro R'].fillna(0, inplace = True)\n",
    "df2['Retro TA'].fillna(0, inplace = True)\n",
    "df2['Retro TR'].fillna(0, inplace = True)\n",
    "df2['Retrocession'] = df2['Retro A'] + df2['Retro R'] + df2['Retro TA'] + df2['Retro TR']\n",
    "df2.info()\n",
    "df2['Retrocession'].mean()\n",
    "#Creation de variable pour plotting\n",
    "R = df2[df2['Retro R'] != 0]\n",
    "A = df2[df2['Retro A'] != 0]\n",
    "TR = df2[df2['Retro TR'] != 0]\n",
    "TA = df2[df2['Retro TA'] != 0]\n",
    "locations = [1, 2, 3 ,4]\n",
    "retro = [R['Retro R'].mean(), A['Retro A'].mean(), TR['Retro TR'].mean(), TA['Retro TA'].mean()]\n",
    "labels = ['Retro R', 'Retro A', 'Retro TR', 'Retro TA']\n",
    "plt.bar(locations, retro, tick_label=labels)\n",
    "plt.axhline(y=df2['Retrocession'].mean(), color = 'green')\n",
    "\n",
    "\n"
   ]
  },
  {
   "cell_type": "markdown",
   "metadata": {},
   "source": [
    "# Statistiques sur les remplaçants :#\n",
    "## blabla##"
   ]
  },
  {
   "cell_type": "code",
   "execution_count": null,
   "metadata": {},
   "outputs": [],
   "source": []
  },
  {
   "cell_type": "code",
   "execution_count": null,
   "metadata": {},
   "outputs": [],
   "source": []
  }
 ],
 "metadata": {
  "kernelspec": {
   "display_name": "Python 3",
   "language": "python",
   "name": "python3"
  },
  "language_info": {
   "codemirror_mode": {
    "name": "ipython",
    "version": 3
   },
   "file_extension": ".py",
   "mimetype": "text/x-python",
   "name": "python",
   "nbconvert_exporter": "python",
   "pygments_lexer": "ipython3",
   "version": "3.6.3"
  }
 },
 "nbformat": 4,
 "nbformat_minor": 2
}
